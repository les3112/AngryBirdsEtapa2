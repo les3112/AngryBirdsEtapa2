{
  "nbformat": 4,
  "nbformat_minor": 0,
  "metadata": {
    "colab": {
      "provenance": [],
      "authorship_tag": "ABX9TyOs9WhQ/HbYV9eVUI4znNpf",
      "include_colab_link": true
    },
    "kernelspec": {
      "name": "python3",
      "display_name": "Python 3"
    },
    "language_info": {
      "name": "python"
    }
  },
  "cells": [
    {
      "cell_type": "markdown",
      "metadata": {
        "id": "view-in-github",
        "colab_type": "text"
      },
      "source": [
        "<a href=\"https://colab.research.google.com/github/les3112/AngryBirdsEtapa2/blob/main/Untitled1.ipynb\" target=\"_parent\"><img src=\"https://colab.research.google.com/assets/colab-badge.svg\" alt=\"Open In Colab\"/></a>"
      ]
    },
    {
      "cell_type": "code",
      "execution_count": 3,
      "metadata": {
        "colab": {
          "base_uri": "https://localhost:8080/"
        },
        "id": "ZzbJdSYL_srg",
        "outputId": "cb808118-9757-4cb3-8833-95ab21c7049f"
      },
      "outputs": [
        {
          "output_type": "stream",
          "name": "stdout",
          "text": [
            "Dulce hogar, Ciudad de México\n"
          ]
        }
      ],
      "source": [
        "class Contact_Details:\n",
        "\n",
        "  #Definir atributos de la clase\n",
        "\n",
        "  def _init_(self,nombre,número_teléfono,correo,dirección):\n",
        "    self.contact_name=nombre\n",
        "    self.contact_number=número_teléfono\n",
        "    self.email=correo\n",
        "    self.contact_address=dirección\n",
        "\n",
        "    #crea un dictionary de los detalles del contacto\n",
        "    self.person={\n",
        "        \"nombre\":self.contact_name,\n",
        "        \"teléfono\":self.contact_number,\n",
        "        \"correo\":self.email,\n",
        "        \"dirección\":self.contact_address\n",
        "    }"
      ]
    }
  ]
}